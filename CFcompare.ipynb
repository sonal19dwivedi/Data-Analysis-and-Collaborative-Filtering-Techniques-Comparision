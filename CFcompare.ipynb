{
 "cells": [
  {
   "cell_type": "code",
   "execution_count": 0,
   "metadata": {
    "colab": {},
    "colab_type": "code",
    "id": "voCGcu_JmrN-"
   },
   "outputs": [],
   "source": [
    "# Uncomment the following lines if using colab else proceed\n",
    "# !pip install surprise"
   ]
  },
  {
   "cell_type": "code",
   "execution_count": 1,
   "metadata": {
    "colab": {},
    "colab_type": "code",
    "id": "quRQZVCXm53i"
   },
   "outputs": [],
   "source": [
    "import pandas as pd\n",
    "import numpy as np\n",
    "import time\n",
    "import random\n",
    "from surprise import Dataset, Reader\n",
    "from surprise import SVD\n",
    "from surprise import CoClustering\n",
    "from surprise import accuracy\n",
    "from surprise.model_selection import cross_validate, train_test_split\n",
    "from surprise.prediction_algorithms import Prediction\n",
    "from surprise.model_selection import GridSearchCV\n",
    "from surprise import KNNBasic\n",
    "from surprise import KNNWithMeans\n",
    "from surprise import NormalPredictor"
   ]
  },
  {
   "cell_type": "code",
   "execution_count": 3,
   "metadata": {
    "colab": {},
    "colab_type": "code",
    "id": "dAJgIoU7m9dr"
   },
   "outputs": [],
   "source": [
    "#upload yelp_restraunt_reviews.csv, yelp_restraunts.csv\n",
    "#Uncomment the following lines if using colab else proceed\n",
    "# from google.colab import files\n",
    "# uploaded = files.upload()"
   ]
  },
  {
   "cell_type": "code",
   "execution_count": 4,
   "metadata": {
    "colab": {},
    "colab_type": "code",
    "id": "EbE5q0ypnfWp"
   },
   "outputs": [],
   "source": [
    "reviews = pd.read_csv('yelp_restraunt_reviews.csv')\n",
    "restraunts = pd.read_csv('yelp_restraunts.csv')"
   ]
  },
  {
   "cell_type": "code",
   "execution_count": 5,
   "metadata": {
    "colab": {},
    "colab_type": "code",
    "id": "vq_PuKC4u2kc"
   },
   "outputs": [
    {
     "data": {
      "text/html": [
       "<div>\n",
       "<style scoped>\n",
       "    .dataframe tbody tr th:only-of-type {\n",
       "        vertical-align: middle;\n",
       "    }\n",
       "\n",
       "    .dataframe tbody tr th {\n",
       "        vertical-align: top;\n",
       "    }\n",
       "\n",
       "    .dataframe thead th {\n",
       "        text-align: right;\n",
       "    }\n",
       "</style>\n",
       "<table border=\"1\" class=\"dataframe\">\n",
       "  <thead>\n",
       "    <tr style=\"text-align: right;\">\n",
       "      <th></th>\n",
       "      <th>Unnamed: 0</th>\n",
       "      <th>rating</th>\n",
       "    </tr>\n",
       "  </thead>\n",
       "  <tbody>\n",
       "    <tr>\n",
       "      <td>count</td>\n",
       "      <td>2.990630e+05</td>\n",
       "      <td>299063.000000</td>\n",
       "    </tr>\n",
       "    <tr>\n",
       "      <td>mean</td>\n",
       "      <td>4.065497e+06</td>\n",
       "      <td>3.638615</td>\n",
       "    </tr>\n",
       "    <tr>\n",
       "      <td>std</td>\n",
       "      <td>2.297435e+06</td>\n",
       "      <td>1.168218</td>\n",
       "    </tr>\n",
       "    <tr>\n",
       "      <td>min</td>\n",
       "      <td>2.500000e+01</td>\n",
       "      <td>1.000000</td>\n",
       "    </tr>\n",
       "    <tr>\n",
       "      <td>25%</td>\n",
       "      <td>2.044576e+06</td>\n",
       "      <td>3.000000</td>\n",
       "    </tr>\n",
       "    <tr>\n",
       "      <td>50%</td>\n",
       "      <td>4.125503e+06</td>\n",
       "      <td>4.000000</td>\n",
       "    </tr>\n",
       "    <tr>\n",
       "      <td>75%</td>\n",
       "      <td>6.084508e+06</td>\n",
       "      <td>5.000000</td>\n",
       "    </tr>\n",
       "    <tr>\n",
       "      <td>max</td>\n",
       "      <td>8.020780e+06</td>\n",
       "      <td>5.000000</td>\n",
       "    </tr>\n",
       "  </tbody>\n",
       "</table>\n",
       "</div>"
      ],
      "text/plain": [
       "         Unnamed: 0         rating\n",
       "count  2.990630e+05  299063.000000\n",
       "mean   4.065497e+06       3.638615\n",
       "std    2.297435e+06       1.168218\n",
       "min    2.500000e+01       1.000000\n",
       "25%    2.044576e+06       3.000000\n",
       "50%    4.125503e+06       4.000000\n",
       "75%    6.084508e+06       5.000000\n",
       "max    8.020780e+06       5.000000"
      ]
     },
     "execution_count": 5,
     "metadata": {},
     "output_type": "execute_result"
    }
   ],
   "source": [
    "reviews.describe()"
   ]
  },
  {
   "cell_type": "code",
   "execution_count": 6,
   "metadata": {
    "colab": {},
    "colab_type": "code",
    "id": "KLpgbfgPvOno"
   },
   "outputs": [
    {
     "data": {
      "text/html": [
       "<div>\n",
       "<style scoped>\n",
       "    .dataframe tbody tr th:only-of-type {\n",
       "        vertical-align: middle;\n",
       "    }\n",
       "\n",
       "    .dataframe tbody tr th {\n",
       "        vertical-align: top;\n",
       "    }\n",
       "\n",
       "    .dataframe thead th {\n",
       "        text-align: right;\n",
       "    }\n",
       "</style>\n",
       "<table border=\"1\" class=\"dataframe\">\n",
       "  <thead>\n",
       "    <tr style=\"text-align: right;\">\n",
       "      <th></th>\n",
       "      <th>Unnamed: 0</th>\n",
       "      <th>user_id</th>\n",
       "      <th>business_id</th>\n",
       "      <th>rating</th>\n",
       "      <th>date</th>\n",
       "    </tr>\n",
       "  </thead>\n",
       "  <tbody>\n",
       "    <tr>\n",
       "      <td>0</td>\n",
       "      <td>25</td>\n",
       "      <td>TZQSUDDcA4ek5gBd6BzcjA</td>\n",
       "      <td>qUWqjjjfpB2-4P3He5rsKw</td>\n",
       "      <td>4.0</td>\n",
       "      <td>2017-06-06 19:04:10</td>\n",
       "    </tr>\n",
       "    <tr>\n",
       "      <td>1</td>\n",
       "      <td>101</td>\n",
       "      <td>1kNsEAhGU8d8xugMuXJGFA</td>\n",
       "      <td>cDoo0Pf1d_P79Rq3ZNk-Mw</td>\n",
       "      <td>3.0</td>\n",
       "      <td>2013-07-13 00:57:45</td>\n",
       "    </tr>\n",
       "    <tr>\n",
       "      <td>2</td>\n",
       "      <td>114</td>\n",
       "      <td>Eg_VTAQwK3CxYTORNRWd2g</td>\n",
       "      <td>4m_hApwQ054v3ue_OxFmGw</td>\n",
       "      <td>5.0</td>\n",
       "      <td>2013-02-21 23:37:18</td>\n",
       "    </tr>\n",
       "    <tr>\n",
       "      <td>3</td>\n",
       "      <td>148</td>\n",
       "      <td>RRhco4irDXPk5EJmvuwr2w</td>\n",
       "      <td>PMPMHHLe9vFzcR67iCjgLA</td>\n",
       "      <td>5.0</td>\n",
       "      <td>2016-01-17 05:23:59</td>\n",
       "    </tr>\n",
       "    <tr>\n",
       "      <td>4</td>\n",
       "      <td>172</td>\n",
       "      <td>Kl6jNDAE7PG_VVQafIptxQ</td>\n",
       "      <td>IfUkm42SB9D0m_ZbkQ711A</td>\n",
       "      <td>4.0</td>\n",
       "      <td>2013-04-10 17:43:11</td>\n",
       "    </tr>\n",
       "  </tbody>\n",
       "</table>\n",
       "</div>"
      ],
      "text/plain": [
       "   Unnamed: 0                 user_id             business_id  rating  \\\n",
       "0          25  TZQSUDDcA4ek5gBd6BzcjA  qUWqjjjfpB2-4P3He5rsKw     4.0   \n",
       "1         101  1kNsEAhGU8d8xugMuXJGFA  cDoo0Pf1d_P79Rq3ZNk-Mw     3.0   \n",
       "2         114  Eg_VTAQwK3CxYTORNRWd2g  4m_hApwQ054v3ue_OxFmGw     5.0   \n",
       "3         148  RRhco4irDXPk5EJmvuwr2w  PMPMHHLe9vFzcR67iCjgLA     5.0   \n",
       "4         172  Kl6jNDAE7PG_VVQafIptxQ  IfUkm42SB9D0m_ZbkQ711A     4.0   \n",
       "\n",
       "                  date  \n",
       "0  2017-06-06 19:04:10  \n",
       "1  2013-07-13 00:57:45  \n",
       "2  2013-02-21 23:37:18  \n",
       "3  2016-01-17 05:23:59  \n",
       "4  2013-04-10 17:43:11  "
      ]
     },
     "execution_count": 6,
     "metadata": {},
     "output_type": "execute_result"
    }
   ],
   "source": [
    "reviews.head()"
   ]
  },
  {
   "cell_type": "code",
   "execution_count": 7,
   "metadata": {
    "colab": {},
    "colab_type": "code",
    "id": "53RFh9ExnTXB"
   },
   "outputs": [],
   "source": [
    "reader = Reader(rating_scale=(1, 5)) #ratings 1-5\n",
    "revs = Dataset.load_from_df(reviews[['user_id', 'business_id', 'rating']], reader)"
   ]
  },
  {
   "cell_type": "code",
   "execution_count": 8,
   "metadata": {
    "colab": {},
    "colab_type": "code",
    "id": "kIcBu_QonPFj"
   },
   "outputs": [
    {
     "name": "stdout",
     "output_type": "stream",
     "text": [
      "Computing the msd similarity matrix...\n",
      "Done computing similarity matrix.\n",
      "Computing the msd similarity matrix...\n",
      "Done computing similarity matrix.\n",
      "Computing the msd similarity matrix...\n",
      "Done computing similarity matrix.\n",
      "Computing the msd similarity matrix...\n",
      "Done computing similarity matrix.\n",
      "Computing the msd similarity matrix...\n",
      "Done computing similarity matrix.\n",
      "Computing the msd similarity matrix...\n",
      "Done computing similarity matrix.\n"
     ]
    },
    {
     "data": {
      "text/html": [
       "<div>\n",
       "<style scoped>\n",
       "    .dataframe tbody tr th:only-of-type {\n",
       "        vertical-align: middle;\n",
       "    }\n",
       "\n",
       "    .dataframe tbody tr th {\n",
       "        vertical-align: top;\n",
       "    }\n",
       "\n",
       "    .dataframe thead th {\n",
       "        text-align: right;\n",
       "    }\n",
       "</style>\n",
       "<table border=\"1\" class=\"dataframe\">\n",
       "  <thead>\n",
       "    <tr style=\"text-align: right;\">\n",
       "      <th></th>\n",
       "      <th>test_rmse</th>\n",
       "      <th>fit_time</th>\n",
       "      <th>test_time</th>\n",
       "    </tr>\n",
       "    <tr>\n",
       "      <th>Algorithm</th>\n",
       "      <th></th>\n",
       "      <th></th>\n",
       "      <th></th>\n",
       "    </tr>\n",
       "  </thead>\n",
       "  <tbody>\n",
       "    <tr>\n",
       "      <td>NormalPredictor</td>\n",
       "      <td>1.562510</td>\n",
       "      <td>0.376643</td>\n",
       "      <td>0.636677</td>\n",
       "    </tr>\n",
       "    <tr>\n",
       "      <td>KNNBasic</td>\n",
       "      <td>1.155715</td>\n",
       "      <td>12.301040</td>\n",
       "      <td>15.368587</td>\n",
       "    </tr>\n",
       "    <tr>\n",
       "      <td>KNNWithMeans</td>\n",
       "      <td>1.143781</td>\n",
       "      <td>16.327458</td>\n",
       "      <td>15.554886</td>\n",
       "    </tr>\n",
       "    <tr>\n",
       "      <td>CoClustering</td>\n",
       "      <td>1.128326</td>\n",
       "      <td>8.387155</td>\n",
       "      <td>0.878675</td>\n",
       "    </tr>\n",
       "    <tr>\n",
       "      <td>SVD</td>\n",
       "      <td>1.059048</td>\n",
       "      <td>13.443129</td>\n",
       "      <td>0.899361</td>\n",
       "    </tr>\n",
       "  </tbody>\n",
       "</table>\n",
       "</div>"
      ],
      "text/plain": [
       "                 test_rmse   fit_time  test_time\n",
       "Algorithm                                       \n",
       "NormalPredictor   1.562510   0.376643   0.636677\n",
       "KNNBasic          1.155715  12.301040  15.368587\n",
       "KNNWithMeans      1.143781  16.327458  15.554886\n",
       "CoClustering      1.128326   8.387155   0.878675\n",
       "SVD               1.059048  13.443129   0.899361"
      ]
     },
     "execution_count": 8,
     "metadata": {},
     "output_type": "execute_result"
    }
   ],
   "source": [
    "results = []\n",
    "\n",
    "for i in [NormalPredictor(), KNNBasic(), KNNWithMeans(), CoClustering(), SVD()]:\n",
    "    cv = cross_validate(i, revs, measures=['RMSE'], cv=3, verbose=False)\n",
    "    rs = pd.DataFrame.from_dict(cv).mean(axis=0)\n",
    "    rs = rs.append(pd.Series([str(i).split(' ')[0].split('.')[-1]], index= ['Algorithm']))\n",
    "    results.append(rs)\n",
    "pd.DataFrame(results).set_index('Algorithm')   "
   ]
  },
  {
   "cell_type": "code",
   "execution_count": 14,
   "metadata": {
    "colab": {},
    "colab_type": "code",
    "id": "Jsv3N3_xuGB0"
   },
   "outputs": [],
   "source": [
    "#upload burgers.csv\n",
    "#Uncomment the following lines if using colab else proceed\n",
    "# from google.colab import files\n",
    "# uploaded = files.upload()"
   ]
  },
  {
   "cell_type": "code",
   "execution_count": 10,
   "metadata": {
    "colab": {},
    "colab_type": "code",
    "id": "1g1DzQxSuOqM"
   },
   "outputs": [],
   "source": [
    "burgers = pd.read_csv('burgers.csv')"
   ]
  },
  {
   "cell_type": "code",
   "execution_count": 11,
   "metadata": {
    "colab": {},
    "colab_type": "code",
    "id": "Ic8An5L0uWrf"
   },
   "outputs": [
    {
     "data": {
      "text/html": [
       "<div>\n",
       "<style scoped>\n",
       "    .dataframe tbody tr th:only-of-type {\n",
       "        vertical-align: middle;\n",
       "    }\n",
       "\n",
       "    .dataframe tbody tr th {\n",
       "        vertical-align: top;\n",
       "    }\n",
       "\n",
       "    .dataframe thead th {\n",
       "        text-align: right;\n",
       "    }\n",
       "</style>\n",
       "<table border=\"1\" class=\"dataframe\">\n",
       "  <thead>\n",
       "    <tr style=\"text-align: right;\">\n",
       "      <th></th>\n",
       "      <th>Unnamed: 0</th>\n",
       "      <th>Unnamed: 0.1</th>\n",
       "      <th>user_id</th>\n",
       "      <th>business_id</th>\n",
       "      <th>rating</th>\n",
       "      <th>date</th>\n",
       "      <th>categories</th>\n",
       "    </tr>\n",
       "  </thead>\n",
       "  <tbody>\n",
       "    <tr>\n",
       "      <td>0</td>\n",
       "      <td>116373</td>\n",
       "      <td>3251095</td>\n",
       "      <td>_zPT9ZmR5-nUfsprzIiRew</td>\n",
       "      <td>MqT4cWU_BHBm0kpxqyMg0w</td>\n",
       "      <td>4</td>\n",
       "      <td>2016-11-22 3:30</td>\n",
       "      <td>['Burgers', 'Active Life', 'Fast Food']</td>\n",
       "    </tr>\n",
       "    <tr>\n",
       "      <td>1</td>\n",
       "      <td>122045</td>\n",
       "      <td>3383428</td>\n",
       "      <td>dhPp4t9_fD0R0eNsp_gYZw</td>\n",
       "      <td>MqT4cWU_BHBm0kpxqyMg0w</td>\n",
       "      <td>1</td>\n",
       "      <td>2016-06-15 2:21</td>\n",
       "      <td>['Burgers', 'Active Life', 'Fast Food']</td>\n",
       "    </tr>\n",
       "    <tr>\n",
       "      <td>2</td>\n",
       "      <td>126831</td>\n",
       "      <td>3496490</td>\n",
       "      <td>5ezpruY9B7nVcRIgHHGyBg</td>\n",
       "      <td>MqT4cWU_BHBm0kpxqyMg0w</td>\n",
       "      <td>5</td>\n",
       "      <td>2015-08-02 22:52</td>\n",
       "      <td>['Burgers', 'Active Life', 'Fast Food']</td>\n",
       "    </tr>\n",
       "    <tr>\n",
       "      <td>3</td>\n",
       "      <td>128915</td>\n",
       "      <td>3546247</td>\n",
       "      <td>UhlXS6NdA5k4SRunpcKHJw</td>\n",
       "      <td>MqT4cWU_BHBm0kpxqyMg0w</td>\n",
       "      <td>1</td>\n",
       "      <td>2014-08-18 13:44</td>\n",
       "      <td>['Burgers', 'Active Life', 'Fast Food']</td>\n",
       "    </tr>\n",
       "    <tr>\n",
       "      <td>4</td>\n",
       "      <td>271539</td>\n",
       "      <td>7224456</td>\n",
       "      <td>HFItzRohDHZvcKDrM6ABZg</td>\n",
       "      <td>xAboCt1b_NoMjzTPOGPM8g</td>\n",
       "      <td>4</td>\n",
       "      <td>2012-09-11 13:51</td>\n",
       "      <td>['Burgers', 'American (Traditional)', 'Beer', ...</td>\n",
       "    </tr>\n",
       "  </tbody>\n",
       "</table>\n",
       "</div>"
      ],
      "text/plain": [
       "   Unnamed: 0  Unnamed: 0.1                 user_id             business_id  \\\n",
       "0      116373       3251095  _zPT9ZmR5-nUfsprzIiRew  MqT4cWU_BHBm0kpxqyMg0w   \n",
       "1      122045       3383428  dhPp4t9_fD0R0eNsp_gYZw  MqT4cWU_BHBm0kpxqyMg0w   \n",
       "2      126831       3496490  5ezpruY9B7nVcRIgHHGyBg  MqT4cWU_BHBm0kpxqyMg0w   \n",
       "3      128915       3546247  UhlXS6NdA5k4SRunpcKHJw  MqT4cWU_BHBm0kpxqyMg0w   \n",
       "4      271539       7224456  HFItzRohDHZvcKDrM6ABZg  xAboCt1b_NoMjzTPOGPM8g   \n",
       "\n",
       "   rating              date                                         categories  \n",
       "0       4   2016-11-22 3:30            ['Burgers', 'Active Life', 'Fast Food']  \n",
       "1       1   2016-06-15 2:21            ['Burgers', 'Active Life', 'Fast Food']  \n",
       "2       5  2015-08-02 22:52            ['Burgers', 'Active Life', 'Fast Food']  \n",
       "3       1  2014-08-18 13:44            ['Burgers', 'Active Life', 'Fast Food']  \n",
       "4       4  2012-09-11 13:51  ['Burgers', 'American (Traditional)', 'Beer', ...  "
      ]
     },
     "execution_count": 11,
     "metadata": {},
     "output_type": "execute_result"
    }
   ],
   "source": [
    "burgers.head()"
   ]
  },
  {
   "cell_type": "code",
   "execution_count": 12,
   "metadata": {
    "colab": {},
    "colab_type": "code",
    "id": "FbZPpPKDuh9M"
   },
   "outputs": [],
   "source": [
    "reader = Reader(rating_scale=(1, 5))\n",
    "brevs = Dataset.load_from_df(reviews[['user_id', 'business_id', 'rating']], reader)"
   ]
  },
  {
   "cell_type": "code",
   "execution_count": 13,
   "metadata": {
    "colab": {},
    "colab_type": "code",
    "id": "ECxNkePNubQ8"
   },
   "outputs": [
    {
     "name": "stdout",
     "output_type": "stream",
     "text": [
      "Computing the msd similarity matrix...\n",
      "Done computing similarity matrix.\n",
      "Computing the msd similarity matrix...\n",
      "Done computing similarity matrix.\n",
      "Computing the msd similarity matrix...\n",
      "Done computing similarity matrix.\n",
      "Computing the msd similarity matrix...\n",
      "Done computing similarity matrix.\n",
      "Computing the msd similarity matrix...\n",
      "Done computing similarity matrix.\n",
      "Computing the msd similarity matrix...\n",
      "Done computing similarity matrix.\n"
     ]
    },
    {
     "data": {
      "text/html": [
       "<div>\n",
       "<style scoped>\n",
       "    .dataframe tbody tr th:only-of-type {\n",
       "        vertical-align: middle;\n",
       "    }\n",
       "\n",
       "    .dataframe tbody tr th {\n",
       "        vertical-align: top;\n",
       "    }\n",
       "\n",
       "    .dataframe thead th {\n",
       "        text-align: right;\n",
       "    }\n",
       "</style>\n",
       "<table border=\"1\" class=\"dataframe\">\n",
       "  <thead>\n",
       "    <tr style=\"text-align: right;\">\n",
       "      <th></th>\n",
       "      <th>test_rmse</th>\n",
       "      <th>fit_time</th>\n",
       "      <th>test_time</th>\n",
       "    </tr>\n",
       "    <tr>\n",
       "      <th>Algorithm</th>\n",
       "      <th></th>\n",
       "      <th></th>\n",
       "      <th></th>\n",
       "    </tr>\n",
       "  </thead>\n",
       "  <tbody>\n",
       "    <tr>\n",
       "      <td>NormalPredictor</td>\n",
       "      <td>1.560705</td>\n",
       "      <td>0.398669</td>\n",
       "      <td>0.666571</td>\n",
       "    </tr>\n",
       "    <tr>\n",
       "      <td>KNNBasic</td>\n",
       "      <td>1.155730</td>\n",
       "      <td>12.221009</td>\n",
       "      <td>14.798559</td>\n",
       "    </tr>\n",
       "    <tr>\n",
       "      <td>KNNWithMeans</td>\n",
       "      <td>1.145881</td>\n",
       "      <td>15.625868</td>\n",
       "      <td>14.339085</td>\n",
       "    </tr>\n",
       "    <tr>\n",
       "      <td>CoClustering</td>\n",
       "      <td>1.130162</td>\n",
       "      <td>8.523660</td>\n",
       "      <td>0.733856</td>\n",
       "    </tr>\n",
       "    <tr>\n",
       "      <td>SVD</td>\n",
       "      <td>1.059319</td>\n",
       "      <td>13.247816</td>\n",
       "      <td>0.979347</td>\n",
       "    </tr>\n",
       "  </tbody>\n",
       "</table>\n",
       "</div>"
      ],
      "text/plain": [
       "                 test_rmse   fit_time  test_time\n",
       "Algorithm                                       \n",
       "NormalPredictor   1.560705   0.398669   0.666571\n",
       "KNNBasic          1.155730  12.221009  14.798559\n",
       "KNNWithMeans      1.145881  15.625868  14.339085\n",
       "CoClustering      1.130162   8.523660   0.733856\n",
       "SVD               1.059319  13.247816   0.979347"
      ]
     },
     "execution_count": 13,
     "metadata": {},
     "output_type": "execute_result"
    }
   ],
   "source": [
    "results = []\n",
    "\n",
    "for i in [NormalPredictor(), KNNBasic(), KNNWithMeans(), CoClustering(), SVD()]:\n",
    "    cv = cross_validate(i, brevs, measures=['RMSE'], cv=3, verbose=False)\n",
    "    rs = pd.DataFrame.from_dict(cv).mean(axis=0)\n",
    "    rs = rs.append(pd.Series([str(i).split(' ')[0].split('.')[-1]], index= ['Algorithm']))\n",
    "    results.append(rs)\n",
    "pd.DataFrame(results).set_index('Algorithm')"
   ]
  }
 ],
 "metadata": {
  "colab": {
   "authorship_tag": "ABX9TyO+WXwsi8m92UKG8W1YtgGA",
   "collapsed_sections": [],
   "machine_shape": "hm",
   "name": "CFcompare.ipynb",
   "provenance": []
  },
  "kernelspec": {
   "display_name": "Python 3",
   "language": "python",
   "name": "python3"
  },
  "language_info": {
   "codemirror_mode": {
    "name": "ipython",
    "version": 3
   },
   "file_extension": ".py",
   "mimetype": "text/x-python",
   "name": "python",
   "nbconvert_exporter": "python",
   "pygments_lexer": "ipython3",
   "version": "3.7.4"
  }
 },
 "nbformat": 4,
 "nbformat_minor": 1
}
